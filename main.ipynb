{
 "cells": [
  {
   "cell_type": "markdown",
   "metadata": {},
   "source": [
    "## Import Important LIB"
   ]
  },
  {
   "cell_type": "code",
   "execution_count": null,
   "metadata": {},
   "outputs": [],
   "source": [
    "import os\n",
    "import json\n",
    "from langchain.chat_models import AzureChatOpenAI #ต้องเป็นAzureChatOpenAI"
   ]
  },
  {
   "cell_type": "code",
   "execution_count": 49,
   "metadata": {},
   "outputs": [],
   "source": [
    "from azure.ai.inference.models import (\n",
    "    ChatCompletionsToolDefinition,\n",
    "    FunctionDefinition,\n",
    "    UserMessage,\n",
    ")"
   ]
  },
  {
   "cell_type": "markdown",
   "metadata": {},
   "source": [
    "## Define Function call > Tools"
   ]
  },
  {
   "cell_type": "code",
   "execution_count": 8,
   "metadata": {},
   "outputs": [],
   "source": [
    "from langchain.tools import tool"
   ]
  },
  {
   "cell_type": "code",
   "execution_count": null,
   "metadata": {},
   "outputs": [],
   "source": [
    "import requests\n",
    "@tool\n",
    "def get_person_detail(person_id):\n",
    "    \"\"\"สำหรับการค้นชื่อ,เบอร์โทรติดต่อของลูกค้าจากฐานข้อมูลที่มีจาก id ของuser\"\"\"\n",
    "    BASE_URL = \"http://127.0.0.1:8000\" #ใช้จริงอาจจะต้องเปลี่ยน URL\n",
    "    response = requests.get(f\"{BASE_URL}/get_customer/{person_id}\")\n",
    "    if response.status_code == 200:\n",
    "        that_Cus = response.json()\n",
    "        if that_Cus:\n",
    "            Cus_Name=that_Cus['Name']\n",
    "            Cus_tel=that_Cus['Telephone']\n",
    "        else:\n",
    "            print(\"Not found that person\")\n",
    "    else:\n",
    "        print(f\"Error: {response.status_code}, {response.text}\")\n",
    "        return f'ลูกค้าชื่อ {Cus_Name} เบอร์โทรศัพท์คือ {Cus_tel} '\n",
    "\n",
    "@tool\n",
    "def get_promotion():\n",
    "    \"\"\"ให้โปรโมชั่นที่เหมาะสมกับลูกค้า\"\"\"\n",
    "    #คิดว่าถ้ามีเป็นตารางเก็บโปรโมชั่นแต่ละเดือนน่าจะ practicalกว่า แถมน่าจะ Adjustอะไรได้มากกว่าด้วย \n",
    "    #อาจจะรับจำนวนกระปุกที่เหลือ และใช้ url 2 ตัว ,1 คือurlรับวันเดือน ,อีก 1 คือurlค้นหาโปรโมชั่นประจำเดือน ของกลุ่มคนที่มีความเสี่ยงที่แตกต่าง\n",
    "    return 'ซื้อ 3 แถม 2! ซื้อ 5 ลดทันที 50%! แคปซูลลดโคเลสเตอรอล ลดไขมันในเลือด ปรับสมดุลสุขภาพ ลดความเสี่ยงโรคหัวใจ รีบสั่งซื้อเลย!'\n",
    "\n",
    "@tool\n",
    "def store_user_detail():\n",
    "    \"\"\"เก็บข้อมูลของลูกค้าลงdatabase\"\"\"\n",
    "    BASE_URL=\"http://127.0.0.1:8000\" #ใช้จริงอาจจะต้องเปลี่ยน URL\n",
    "    response = requests.post()\n",
    "    return ''"
   ]
  },
  {
   "cell_type": "code",
   "execution_count": 76,
   "metadata": {},
   "outputs": [],
   "source": [
    "import requests\n",
    "from datetime import datetime\n",
    "from dateutil.relativedelta import relativedelta\n",
    "\n",
    "# @tool #มันไม่ให้ใช้@Tool ตอนเทส เลยขอcommentไว้ก่อน\n",
    "def Aproximate_usage(Latest_buy, Cus_Instock):\n",
    "    \"\"\"ช่วยในการคำนวนการบริโภคของลูกค้า\"\"\"\n",
    "    #BASE_URL ตัวนี้จะไปเอาวันเดือนปี ปัจจุบันมาคำนวน\n",
    "    BASE_URL = \"https://tools.aimylogic.com/api/now?tz=Asia/Istanbul&format=dd/MM/yyyy\"\n",
    "    response = requests.get(BASE_URL)\n",
    "    if response.status_code != 200:\n",
    "        print(\"Error fetching current date:\", response.text)\n",
    "        return \"ไม่สามารถดึงวันที่ปัจจุบันได้\"\n",
    "\n",
    "    output = response.json()\n",
    "    # print(\"API Response:\", output)  # Debugging\n",
    "\n",
    "    date_str = output.get('formatted', None) \n",
    "\n",
    "    try:\n",
    "        date_obj = datetime.strptime(date_str, \"%d/%m/%Y\").date()\n",
    "        Latest_buy_obj = datetime.strptime(Latest_buy, \"%Y-%m-%d\").date()\n",
    "        diff = relativedelta(date_obj, Latest_buy_obj) \n",
    "        months_diff = diff.years * 12 + diff.months\n",
    "\n",
    "        # print(f\"Latest Buy: {Latest_buy_obj}, Current Date: {date_obj}, Months Diff: {months_diff}\")  \n",
    "        if months_diff < 2:\n",
    "            return 'ลูกค้ามีสินค้าคงคลังอยู่'\n",
    "        if months_diff >= 2 or Cus_Instock <= 4:\n",
    "            return 'ลูกค้ามีจำนวนคงคลังน้อยกว่า 1 เดือนแล้ว แนะนำโปรโมชั่น'\n",
    "        else:\n",
    "            return 'ลูกค้ามีสินค้าคงคลังอยู่'\n",
    "    \n",
    "    except Exception as e:\n",
    "        print(\"Error in date processing:\", str(e))\n",
    "        return \"เกิดข้อผิดพลาดในการคำนวณ\""
   ]
  },
  {
   "cell_type": "code",
   "execution_count": null,
   "metadata": {},
   "outputs": [
    {
     "name": "stdout",
     "output_type": "stream",
     "text": [
      "<Response [200]>\n",
      "Paul 0654321987\n"
     ]
    },
    {
     "data": {
      "text/plain": [
       "'ลูกค้ามีสินค้าคงคลังอยู่'"
      ]
     },
     "execution_count": 75,
     "metadata": {},
     "output_type": "execute_result"
    }
   ],
   "source": [
    "get_person_detail('1')\n",
    "Aproximate_usage(\"2024-12-25\", 6)"
   ]
  },
  {
   "cell_type": "code",
   "execution_count": null,
   "metadata": {},
   "outputs": [
    {
     "name": "stdout",
     "output_type": "stream",
     "text": [
      "19/02/2025\n",
      "<class 'str'>\n",
      "2025-02-19\n"
     ]
    }
   ],
   "source": [
    "import requests\n",
    "from datetime import datetime\n",
    "BASE_URL=\"https://tools.aimylogic.com/api/now?tz=Asia/Istanbul&format=dd/MM/yyyy\" #รับวันที่วันนี้\n",
    "response = requests.get(BASE_URL)\n",
    "if response.status_code == 200:\n",
    "    output=response.json()\n",
    "    date_str=output['formatted']\n",
    "    print(output['formatted'])\n",
    "    print(type(output['formatted']))\n",
    "    date_obj = datetime.strptime(date_str, \"%d/%m/%Y\").date()\n",
    "    print(date_obj)"
   ]
  },
  {
   "cell_type": "markdown",
   "metadata": {},
   "source": [
    "## Tools"
   ]
  },
  {
   "cell_type": "code",
   "execution_count": null,
   "metadata": {},
   "outputs": [],
   "source": [
    "tools=[get_person_detail,get_promotion,calculate_capsule_day,Aproximate_usage]"
   ]
  },
  {
   "cell_type": "markdown",
   "metadata": {},
   "source": [
    "## Chain"
   ]
  },
  {
   "cell_type": "code",
   "execution_count": 57,
   "metadata": {},
   "outputs": [],
   "source": [
    "from langchain.chat_models import ChatOpenAI\n",
    "from langchain.prompts import ChatPromptTemplate\n",
    "from langchain.tools.render import format_tool_to_openai_function\n",
    "from langchain.agents.output_parsers import OpenAIFunctionsAgentOutputParser"
   ]
  },
  {
   "cell_type": "markdown",
   "metadata": {},
   "source": [
    "Convert tools to openai format"
   ]
  },
  {
   "cell_type": "code",
   "execution_count": 58,
   "metadata": {},
   "outputs": [],
   "source": [
    "functions = [format_tool_to_openai_function(f) for f in tools]"
   ]
  },
  {
   "cell_type": "markdown",
   "metadata": {},
   "source": [
    "## Model initial"
   ]
  },
  {
   "cell_type": "code",
   "execution_count": 59,
   "metadata": {},
   "outputs": [],
   "source": [
    "endpoint = \"https://models.inference.ai.azure.com\"\n",
    "model_name = \"gpt-4o-mini\"\n",
    "token = os.environ[\"GITHUB_TOKEN\"]"
   ]
  },
  {
   "cell_type": "markdown",
   "metadata": {},
   "source": [
    "Note : การสร้างModel OpenAI จาก Azure ต้องทำตามแบบนี้ พวกparameterจุกจิกพวกนี้หมดเลย"
   ]
  },
  {
   "cell_type": "code",
   "execution_count": 124,
   "metadata": {},
   "outputs": [
    {
     "name": "stderr",
     "output_type": "stream",
     "text": [
      "/Library/Frameworks/Python.framework/Versions/3.11/lib/python3.11/site-packages/langchain_community/chat_models/azure_openai.py:174: UserWarning: As of openai>=1.0.0, Azure endpoints should be specified via the `azure_endpoint` param not `openai_api_base` (or alias `base_url`). Updating `openai_api_base` from https://models.inference.ai.azure.com to https://models.inference.ai.azure.com/openai.\n",
      "  warnings.warn(\n"
     ]
    }
   ],
   "source": [
    "# Azzure เขียนการinit model แบบนี้ไม่ได้/ ลองเปลี่ยนเป็น AzureChatOpenAI ก็ไม่ได้\n",
    "# model = ChatOpenAI(temperature=0).bind(functions=functions)\n",
    "model = AzureChatOpenAI(\n",
    "    openai_api_key=token,\n",
    "    openai_api_base=endpoint,\n",
    "    model=model_name,\n",
    "    openai_api_version=\"2023-03-15-preview\",\n",
    "    temperature=0\n",
    ").bind(functions=functions)\n",
    "\n",
    "prompt = ChatPromptTemplate.from_messages([\n",
    "    (\"system\", \"You are helpful but sassy assistant\"),\n",
    "    (\"user\", \"{input}\"),\n",
    "])\n",
    "chain = prompt | model | OpenAIFunctionsAgentOutputParser()"
   ]
  },
  {
   "cell_type": "code",
   "execution_count": 125,
   "metadata": {},
   "outputs": [],
   "source": [
    "result = chain.invoke({\"input\": \"what is the weather is sf?\"})"
   ]
  },
  {
   "cell_type": "code",
   "execution_count": 126,
   "metadata": {},
   "outputs": [
    {
     "data": {
      "text/plain": [
       "'get_overall_temp'"
      ]
     },
     "execution_count": 126,
     "metadata": {},
     "output_type": "execute_result"
    }
   ],
   "source": [
    "result.tool"
   ]
  },
  {
   "cell_type": "code",
   "execution_count": 127,
   "metadata": {},
   "outputs": [
    {
     "data": {
      "text/plain": [
       "{'location': 'San Francisco'}"
      ]
     },
     "execution_count": 127,
     "metadata": {},
     "output_type": "execute_result"
    }
   ],
   "source": [
    "result.tool_input"
   ]
  },
  {
   "cell_type": "code",
   "execution_count": 128,
   "metadata": {},
   "outputs": [
    {
     "data": {
      "text/plain": [
       "AgentActionMessageLog(tool='get_book_detail', tool_input={'book_name': 'Wan thong'}, log=\"\\nInvoking: `get_book_detail` with `{'book_name': 'Wan thong'}`\\n\\n\\n\", message_log=[AIMessage(content='', additional_kwargs={'function_call': {'arguments': '{\"book_name\":\"Wan thong\"}', 'name': 'get_book_detail'}}, response_metadata={'token_usage': {'completion_tokens': 17, 'prompt_tokens': 118, 'total_tokens': 135, 'completion_tokens_details': {'accepted_prediction_tokens': 0, 'audio_tokens': 0, 'reasoning_tokens': 0, 'rejected_prediction_tokens': 0}, 'prompt_tokens_details': {'audio_tokens': 0, 'cached_tokens': 0}}, 'model_name': 'gpt-4o-mini-2024-07-18', 'system_fingerprint': 'fp_5154047bf2', 'finish_reason': 'function_call', 'logprobs': None}, id='run-f6a330e0-a8b8-4e8e-a19e-c8a139ac71ba-0')])"
      ]
     },
     "execution_count": 128,
     "metadata": {},
     "output_type": "execute_result"
    }
   ],
   "source": [
    "result = chain.invoke({\"input\": \"I want more information of book name Wan thong\"})\n",
    "result"
   ]
  }
 ],
 "metadata": {
  "kernelspec": {
   "display_name": ".venv",
   "language": "python",
   "name": "python3"
  },
  "language_info": {
   "codemirror_mode": {
    "name": "ipython",
    "version": 3
   },
   "file_extension": ".py",
   "mimetype": "text/x-python",
   "name": "python",
   "nbconvert_exporter": "python",
   "pygments_lexer": "ipython3",
   "version": "3.12.4"
  }
 },
 "nbformat": 4,
 "nbformat_minor": 2
}
