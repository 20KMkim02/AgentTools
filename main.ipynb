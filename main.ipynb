{
 "cells": [
  {
   "cell_type": "markdown",
   "metadata": {},
   "source": [
    "## Import Important LIB"
   ]
  },
  {
   "cell_type": "code",
   "execution_count": null,
   "metadata": {},
   "outputs": [],
   "source": [
    "import os\n",
    "import json\n",
    "from langchain.chat_models import AzureChatOpenAI #ต้องเป็นAzureChatOpenAI"
   ]
  },
  {
   "cell_type": "code",
   "execution_count": 49,
   "metadata": {},
   "outputs": [],
   "source": [
    "from azure.ai.inference.models import (\n",
    "    ChatCompletionsToolDefinition,\n",
    "    FunctionDefinition,\n",
    "    UserMessage,\n",
    ")"
   ]
  },
  {
   "cell_type": "markdown",
   "metadata": {},
   "source": [
    "## Define Function call > Tools"
   ]
  },
  {
   "cell_type": "code",
   "execution_count": 8,
   "metadata": {},
   "outputs": [],
   "source": [
    "from langchain.tools import tool"
   ]
  },
  {
   "cell_type": "code",
   "execution_count": 80,
   "metadata": {},
   "outputs": [],
   "source": [
    "import requests\n",
    "@tool\n",
    "def get_person_detail(person_id):\n",
    "    \"\"\"สำหรับการค้นชื่อ,เบอร์โทรติดต่อของลูกค้าจากฐานข้อมูลที่มีจาก id ของuser\"\"\"\n",
    "    BASE_URL = \"http://127.0.0.1:8000\" #ใช้จริงอาจจะต้องเปลี่ยน URL\n",
    "    response = requests.get(f\"{BASE_URL}/get_customer/{person_id}\")\n",
    "    if response.status_code == 200:\n",
    "        that_Cus = response.json()\n",
    "        if that_Cus:\n",
    "            Cus_Name=that_Cus['Name']\n",
    "            Cus_tel=that_Cus['Telephone']\n",
    "        else:\n",
    "            print(\"Not found that person\")\n",
    "    else:\n",
    "        print(f\"Error: {response.status_code}, {response.text}\")\n",
    "        return f'ลูกค้าชื่อ {Cus_Name} เบอร์โทรศัพท์คือ {Cus_tel} '"
   ]
  },
  {
   "cell_type": "code",
   "execution_count": 83,
   "metadata": {},
   "outputs": [],
   "source": [
    "import requests\n",
    "from datetime import datetime\n",
    "from dateutil.relativedelta import relativedelta\n",
    "\n",
    "# @tool #มันไม่ให้ใช้@Tool ตอนเทส เลยขอcommentไว้ก่อน\n",
    "def Aproximate_usage(Latest_buy, Cus_Instock):\n",
    "    \"\"\"ช่วยในการคำนวนการบริโภคของลูกค้า\"\"\"\n",
    "    #BASE_URL ตัวนี้จะไปเอาวันเดือนปี ปัจจุบันมาคำนวน\n",
    "    BASE_URL = \"https://tools.aimylogic.com/api/now?tz=Asia/Istanbul&format=dd/MM/yyyy\"\n",
    "    response = requests.get(BASE_URL)\n",
    "    if response.status_code != 200:\n",
    "        print(\"Error fetching current date:\", response.text)\n",
    "        return \"ไม่สามารถดึงวันที่ปัจจุบันได้\"\n",
    "\n",
    "    output = response.json()\n",
    "    # print(\"API Response:\", output)  # Debugging\n",
    "\n",
    "    date_str = output.get('formatted', None) \n",
    "\n",
    "    try:\n",
    "        date_obj = datetime.strptime(date_str, \"%d/%m/%Y\").date()\n",
    "        Latest_buy_obj = datetime.strptime(Latest_buy, \"%Y-%m-%d\").date()\n",
    "        diff = relativedelta(date_obj, Latest_buy_obj) \n",
    "        months_diff = diff.years * 12 + diff.months\n",
    "\n",
    "        # print(f\"Latest Buy: {Latest_buy_obj}, Current Date: {date_obj}, Months Diff: {months_diff}\")  \n",
    "        if months_diff < 2:\n",
    "            return 'ลูกค้ามีสินค้าคงคลังอยู่'\n",
    "        if months_diff >= 2 or Cus_Instock <= 4:\n",
    "            return 'ลูกค้ามีจำนวนคงคลังน้อยกว่า 1 เดือนแล้ว แนะนำโปรโมชั่น'\n",
    "        else:\n",
    "            return 'ลูกค้ามีสินค้าคงคลังอยู่'\n",
    "    \n",
    "    except Exception as e:\n",
    "        print(\"Error in date processing:\", str(e))\n",
    "        return \"เกิดข้อผิดพลาดในการคำนวณ\""
   ]
  },
  {
   "cell_type": "code",
   "execution_count": 85,
   "metadata": {},
   "outputs": [],
   "source": [
    "# @tool #มันไม่ให้ใช้@Tool ตอนเทส เลยขอcommentไว้ก่อน\n",
    "def get_promotion():\n",
    "    \"\"\"ให้โปรโมชั่นที่เหมาะสมกับลูกค้า\"\"\"\n",
    "    #คิดว่าถ้ามีเป็นตารางเก็บโปรโมชั่นแต่ละเดือนน่าจะ practicalกว่า แถมน่าจะ Adjustอะไรได้มากกว่าด้วย \n",
    "    #อาจจะรับจำนวนกระปุกที่เหลือ และใช้ url 2 ตัว ,1 คือurlรับวันเดือน ,อีก 1 คือurlค้นหาโปรโมชั่นประจำเดือน ของกลุ่มคนที่มีความเสี่ยงที่แตกต่าง\n",
    "    return 'ซื้อ 3 แถม 2! ซื้อ 5 ลดทันที 50%! แคปซูลลดโคเลสเตอรอล ลดไขมันในเลือด ปรับสมดุลสุขภาพ ลดความเสี่ยงโรคหัวใจ รีบสั่งซื้อเลย!'"
   ]
  },
  {
   "cell_type": "code",
   "execution_count": null,
   "metadata": {},
   "outputs": [],
   "source": [
    "# @tool #มันไม่ให้ใช้@Tool ตอนเทส เลยขอcommentไว้ก่อน\n",
    "def store_user_detail(customer_data):\n",
    "    \"\"\"เก็บข้อมูลของลูกค้าลง database\"\"\"\n",
    "    BASE_URL = \"http://127.0.0.1:8000/post_customer\"\n",
    "    response = requests.post(BASE_URL, json=customer_data)\n",
    "    if response.status_code == 200:\n",
    "        return response.json()\n",
    "    else:\n",
    "        return {\"error\": \"Failed to store user details\", \"status_code\": response.status_code}\n"
   ]
  },
  {
   "cell_type": "code",
   "execution_count": 90,
   "metadata": {},
   "outputs": [
    {
     "data": {
      "text/plain": [
       "'ซื้อ 3 แถม 2! ซื้อ 5 ลดทันที 50%! แคปซูลลดโคเลสเตอรอล ลดไขมันในเลือด ปรับสมดุลสุขภาพ ลดความเสี่ยงโรคหัวใจ รีบสั่งซื้อเลย!'"
      ]
     },
     "execution_count": 90,
     "metadata": {},
     "output_type": "execute_result"
    }
   ],
   "source": [
    "# !fastapi dev api.py\n",
    "# get_person_detail('1')\n",
    "Aproximate_usage(\"2024-12-25\", 6)\n",
    "get_promotion()"
   ]
  }
 ],
 "metadata": {
  "kernelspec": {
   "display_name": ".venv",
   "language": "python",
   "name": "python3"
  },
  "language_info": {
   "codemirror_mode": {
    "name": "ipython",
    "version": 3
   },
   "file_extension": ".py",
   "mimetype": "text/x-python",
   "name": "python",
   "nbconvert_exporter": "python",
   "pygments_lexer": "ipython3",
   "version": "3.12.4"
  }
 },
 "nbformat": 4,
 "nbformat_minor": 2
}
